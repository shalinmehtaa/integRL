{
 "cells": [
  {
   "cell_type": "code",
   "execution_count": 1,
   "id": "2e40dfa1",
   "metadata": {},
   "outputs": [],
   "source": [
    "from datasets import load_dataset"
   ]
  },
  {
   "cell_type": "code",
   "execution_count": 2,
   "metadata": {},
   "outputs": [],
   "source": [
    "data = load_dataset(\"thesven/gsm8k-reasoning\")"
   ]
  },
  {
   "cell_type": "code",
   "execution_count": 3,
   "id": "ac518016",
   "metadata": {},
   "outputs": [],
   "source": [
    "df = data['train'].to_pandas()"
   ]
  },
  {
   "cell_type": "code",
   "execution_count": 4,
   "id": "489d0ac2",
   "metadata": {},
   "outputs": [
    {
     "data": {
      "text/html": [
       "<div>\n",
       "<style scoped>\n",
       "    .dataframe tbody tr th:only-of-type {\n",
       "        vertical-align: middle;\n",
       "    }\n",
       "\n",
       "    .dataframe tbody tr th {\n",
       "        vertical-align: top;\n",
       "    }\n",
       "\n",
       "    .dataframe thead th {\n",
       "        text-align: right;\n",
       "    }\n",
       "</style>\n",
       "<table border=\"1\" class=\"dataframe\">\n",
       "  <thead>\n",
       "    <tr style=\"text-align: right;\">\n",
       "      <th></th>\n",
       "      <th>system_prompt</th>\n",
       "      <th>question</th>\n",
       "      <th>answer</th>\n",
       "      <th>short_answer</th>\n",
       "      <th>generation</th>\n",
       "      <th>messages</th>\n",
       "    </tr>\n",
       "  </thead>\n",
       "  <tbody>\n",
       "    <tr>\n",
       "      <th>0</th>\n",
       "      <td>\\nYou are an AI assistant that uses a Chain of...</td>\n",
       "      <td>A craft store makes a third of its sales in th...</td>\n",
       "      <td>Thus, there were 36 - 12 - 9 = &lt;&lt;36-12-9=15&gt;&gt;1...</td>\n",
       "      <td>15</td>\n",
       "      <td>&lt;thinking&gt;\\nTo find the number of sales in the...</td>\n",
       "      <td>[{'content': '\n",
       "You are an AI assistant that us...</td>\n",
       "    </tr>\n",
       "    <tr>\n",
       "      <th>1</th>\n",
       "      <td>\\nYou are an AI assistant that uses a Chain of...</td>\n",
       "      <td>Marcy is a makeup artist and has agreed to do ...</td>\n",
       "      <td>So she must be applying makeup to 12 tubes of ...</td>\n",
       "      <td>36</td>\n",
       "      <td>‹thinking›\\n\\nTo solve this problem, we need t...</td>\n",
       "      <td>[{'content': '\n",
       "You are an AI assistant that us...</td>\n",
       "    </tr>\n",
       "    <tr>\n",
       "      <th>2</th>\n",
       "      <td>\\nYou are an AI assistant that uses a Chain of...</td>\n",
       "      <td>Ellie has found an old bicycle in a field and ...</td>\n",
       "      <td>To fix the rest of the bike as well, she needs...</td>\n",
       "      <td>25</td>\n",
       "      <td>&lt;thinking&gt;\\nTo solve this problem, I need to c...</td>\n",
       "      <td>[{'content': '\n",
       "You are an AI assistant that us...</td>\n",
       "    </tr>\n",
       "    <tr>\n",
       "      <th>3</th>\n",
       "      <td>\\nYou are an AI assistant that uses a Chain of...</td>\n",
       "      <td>Janice can type 6 sentences per minute. Today ...</td>\n",
       "      <td>Thus, she had X = 536 - 278 = &lt;&lt;536-278=258&gt;&gt;2...</td>\n",
       "      <td>258</td>\n",
       "      <td>&lt;thinking&gt;\\nTo find out how many sentences Jan...</td>\n",
       "      <td>[{'content': '\n",
       "You are an AI assistant that us...</td>\n",
       "    </tr>\n",
       "    <tr>\n",
       "      <th>4</th>\n",
       "      <td>\\nYou are an AI assistant that uses a Chain of...</td>\n",
       "      <td>During one day, there are 4 boat trips through...</td>\n",
       "      <td>During two days the boat can transport a total...</td>\n",
       "      <td>96</td>\n",
       "      <td>&lt;thinking&gt;\\nTo find out how many people the bo...</td>\n",
       "      <td>[{'content': '\n",
       "You are an AI assistant that us...</td>\n",
       "    </tr>\n",
       "  </tbody>\n",
       "</table>\n",
       "</div>"
      ],
      "text/plain": [
       "                                       system_prompt  \\\n",
       "0  \\nYou are an AI assistant that uses a Chain of...   \n",
       "1  \\nYou are an AI assistant that uses a Chain of...   \n",
       "2  \\nYou are an AI assistant that uses a Chain of...   \n",
       "3  \\nYou are an AI assistant that uses a Chain of...   \n",
       "4  \\nYou are an AI assistant that uses a Chain of...   \n",
       "\n",
       "                                            question  \\\n",
       "0  A craft store makes a third of its sales in th...   \n",
       "1  Marcy is a makeup artist and has agreed to do ...   \n",
       "2  Ellie has found an old bicycle in a field and ...   \n",
       "3  Janice can type 6 sentences per minute. Today ...   \n",
       "4  During one day, there are 4 boat trips through...   \n",
       "\n",
       "                                              answer short_answer  \\\n",
       "0  Thus, there were 36 - 12 - 9 = <<36-12-9=15>>1...           15   \n",
       "1  So she must be applying makeup to 12 tubes of ...           36   \n",
       "2  To fix the rest of the bike as well, she needs...           25   \n",
       "3  Thus, she had X = 536 - 278 = <<536-278=258>>2...          258   \n",
       "4  During two days the boat can transport a total...           96   \n",
       "\n",
       "                                          generation  \\\n",
       "0  <thinking>\\nTo find the number of sales in the...   \n",
       "1  ‹thinking›\\n\\nTo solve this problem, we need t...   \n",
       "2  <thinking>\\nTo solve this problem, I need to c...   \n",
       "3  <thinking>\\nTo find out how many sentences Jan...   \n",
       "4  <thinking>\\nTo find out how many people the bo...   \n",
       "\n",
       "                                            messages  \n",
       "0  [{'content': '\n",
       "You are an AI assistant that us...  \n",
       "1  [{'content': '\n",
       "You are an AI assistant that us...  \n",
       "2  [{'content': '\n",
       "You are an AI assistant that us...  \n",
       "3  [{'content': '\n",
       "You are an AI assistant that us...  \n",
       "4  [{'content': '\n",
       "You are an AI assistant that us...  "
      ]
     },
     "execution_count": 4,
     "metadata": {},
     "output_type": "execute_result"
    }
   ],
   "source": [
    "df.head()"
   ]
  },
  {
   "cell_type": "code",
   "execution_count": 5,
   "id": "813ab0e6",
   "metadata": {},
   "outputs": [
    {
     "name": "stdout",
     "output_type": "stream",
     "text": [
      "Ellie has found an old bicycle in a field and thinks it just needs some oil to work well again.  She needs 10ml of oil to fix each wheel and will need another 5ml of oil to fix the rest of the bike. How much oil does she need in total to fix the bike?\n"
     ]
    }
   ],
   "source": [
    "print(df[\"question\"][2])"
   ]
  },
  {
   "cell_type": "code",
   "execution_count": 6,
   "id": "1cc84264",
   "metadata": {},
   "outputs": [
    {
     "name": "stdout",
     "output_type": "stream",
     "text": [
      "To fix the rest of the bike as well, she needs 20 + 5 = <<20+5=25>>25ml of oil.\n"
     ]
    }
   ],
   "source": [
    "print(df[\"answer\"][2])"
   ]
  },
  {
   "cell_type": "code",
   "execution_count": 7,
   "id": "00d64d21",
   "metadata": {},
   "outputs": [
    {
     "name": "stdout",
     "output_type": "stream",
     "text": [
      "<thinking>\n",
      "To solve this problem, I need to calculate the total amount of oil Ellie needs to fix the bike. I'll start by calculating the amount of oil needed for the wheels. She needs 10ml of oil to fix each wheel, and there are 2 wheels on a bike. So, the total amount of oil needed for the wheels is 10ml * 2 = 20ml. Additionally, she needs 5ml of oil to fix the rest of the bike. I can add the amount of oil needed for the wheels and the rest of the bike to get the total amount of oil needed.\n",
      "\n",
      "</thinking>\n",
      "\n",
      "<reasoning>\n",
      "1. Calculate the total amount of oil needed for the wheels: 10ml * 2 = 20ml.\n",
      "2. Add the amount of oil needed for the rest of the bike: 20ml + 5ml = 25ml.\n",
      "3. The total amount of oil needed is the sum of the oil needed for the wheels and the rest of the bike.\n",
      "\n",
      "</reasoning>\n",
      "\n",
      "‹reflection>\n",
      "My reasoning seems sound, but I should double-check my math to ensure I didn't make any calculation errors. Upon reviewing my steps, I'm confident that my calculations are correct.\n",
      "\n",
      "</reflection>\n",
      "\n",
      "<adjustment>\n",
      "No adjustments needed.\n",
      "\n",
      "</adjustment>\n",
      "\n",
      "<output>\n",
      "25\n"
     ]
    }
   ],
   "source": [
    "print(df[\"generation\"][2])"
   ]
  },
  {
   "cell_type": "code",
   "execution_count": 8,
   "id": "c085dbff",
   "metadata": {},
   "outputs": [
    {
     "name": "stdout",
     "output_type": "stream",
     "text": [
      "[{'content': '\\nYou are an AI assistant that uses a Chain of Thought (CoT) approach with reflection to answer queries.\\n\\nFollow these steps:\\n- Think through the problem step by step within the ‹thinking> tags.\\n- Reflect on your thinking\\n\\nto check for any errors or improvements within the ‹reflection› tags.\\n- Make any necessary adjustments based on your reflection.\\n- Provide your final, concise answer within the ‹output> tags.\\n\\nImportant: The <thinking> and ‹reflection› sections are for your internal reasoning process only.\\nDo not include any part of the final answer in these sections.\\nThe actual response to the query must be entirely contained within the ‹output› tags.\\n\\nUse the following format for your response:\\n<thinking>\\n[Your initial thought process goes here]\\n</thinking›\\n\\n<reasoning>\\n[Your step-by-step reasoning goes here. This is your internal thought process, not the final answer. You can create as many reasoning steps as necessary in your process.]\\n</reasoning>\\n\\n‹reflection>\\n[Your reflection on your reasoning, checking for errors or improvements. You can create as many reflection steps as necessary in your process.]\\n</ reflection>\\n\\n<adjustment>\\n[Any adjustments to your thinking based on your reflection]\\n</adjustment>\\n\\n<output>\\n[Your final, concise answer to the query. This is the only part that will be shown to the user.]\\n</output>\\n', 'role': 'system'}\n",
      " {'content': 'Ellie has found an old bicycle in a field and thinks it just needs some oil to work well again.  She needs 10ml of oil to fix each wheel and will need another 5ml of oil to fix the rest of the bike. How much oil does she need in total to fix the bike?', 'role': 'user'}\n",
      " {'content': \"<thinking>\\nTo solve this problem, I need to calculate the total amount of oil Ellie needs to fix the bike. I'll start by calculating the amount of oil needed for the wheels. She needs 10ml of oil to fix each wheel, and there are 2 wheels on a bike. So, the total amount of oil needed for the wheels is 10ml * 2 = 20ml. Additionally, she needs 5ml of oil to fix the rest of the bike. I can add the amount of oil needed for the wheels and the rest of the bike to get the total amount of oil needed.\\n\\n</thinking>\\n\\n<reasoning>\\n1. Calculate the total amount of oil needed for the wheels: 10ml * 2 = 20ml.\\n2. Add the amount of oil needed for the rest of the bike: 20ml + 5ml = 25ml.\\n3. The total amount of oil needed is the sum of the oil needed for the wheels and the rest of the bike.\\n\\n</reasoning>\\n\\n‹reflection>\\nMy reasoning seems sound, but I should double-check my math to ensure I didn't make any calculation errors. Upon reviewing my steps, I'm confident that my calculations are correct.\\n\\n</reflection>\\n\\n<adjustment>\\nNo adjustments needed.\\n\\n</adjustment>\\n\\n<output>\\n25\", 'role': 'assistant'}]\n"
     ]
    }
   ],
   "source": [
    "print(df[\"messages\"][2])"
   ]
  },
  {
   "cell_type": "code",
   "execution_count": 9,
   "id": "6d629dbd",
   "metadata": {},
   "outputs": [],
   "source": [
    "import re\n",
    "\n",
    "def process_to_match_r1(gen: str | None):\n",
    "    if not gen:\n",
    "        return None\n",
    "\n",
    "    s = gen\n",
    "\n",
    "    # Normalize odd quotes/backticks\n",
    "    s = (s.replace(\"‹\", \"<\").replace(\"›\", \">\")\n",
    "           .replace(\"\\u2039\", \"<\").replace(\"\\u203A\", \">\")\n",
    "           .replace(\"`\", \"\"))\n",
    "\n",
    "    # Remove non-required sections entirely\n",
    "    s = re.sub(r\"<(reasoning|reflection|adjustment)>.*?</\\1>\", \"\", s, flags=re.DOTALL|re.IGNORECASE)\n",
    "\n",
    "    # Take the last non-empty thinking/think block (if any)\n",
    "    think_blocks = re.findall(r\"<(thinking|think)>\\s*(.*?)\\s*</(thinking|think)>\",\n",
    "                             s, flags=re.DOTALL|re.IGNORECASE)\n",
    "    think_text = \"\"\n",
    "    for _, block, _ in think_blocks:\n",
    "        if block.strip():\n",
    "            think_text = block.strip()\n",
    "\n",
    "    # Take the last non-empty output/answer block; required\n",
    "    ans_blocks = re.findall(r\"<(output|answer)>\\s*(.*?)\\s*</(output|answer)>\",\n",
    "                            s, flags=re.DOTALL|re.IGNORECASE)\n",
    "    if not ans_blocks:\n",
    "        return None\n",
    "    answer_text = \"\"\n",
    "    for _, block, _ in ans_blocks:\n",
    "        if block.strip():\n",
    "            answer_text = block.strip()\n",
    "\n",
    "    # In case tags leaked into the answer, strip any remaining tags there\n",
    "    answer_text = re.sub(r\"<[^>]+>\", \"\", answer_text).strip()\n",
    "\n",
    "    return f\"{think_text}</think> <answer>{answer_text}</answer>\""
   ]
  },
  {
   "cell_type": "code",
   "execution_count": 10,
   "id": "1590065c",
   "metadata": {},
   "outputs": [],
   "source": [
    "df[\"response\"] = df[\"generation\"].apply(process_to_match_r1)"
   ]
  },
  {
   "cell_type": "code",
   "execution_count": 11,
   "id": "0fb06416",
   "metadata": {},
   "outputs": [],
   "source": [
    "with open(\"../integrl/prompts/r1_zero.prompt\") as f:\n",
    "    prompt_template = f.read()"
   ]
  },
  {
   "cell_type": "code",
   "execution_count": 12,
   "id": "b92e9cca",
   "metadata": {},
   "outputs": [],
   "source": [
    "df[\"prompt\"] = df[\"question\"].apply(lambda q: prompt_template.format(question=q))"
   ]
  },
  {
   "cell_type": "code",
   "execution_count": 13,
   "id": "81f42c7d",
   "metadata": {},
   "outputs": [
    {
     "data": {
      "text/plain": [
       "(6914, 8)"
      ]
     },
     "execution_count": 13,
     "metadata": {},
     "output_type": "execute_result"
    }
   ],
   "source": [
    "df.shape"
   ]
  },
  {
   "cell_type": "code",
   "execution_count": 14,
   "id": "822e77fb",
   "metadata": {},
   "outputs": [],
   "source": [
    "df[df.question.str.contains(\"Janet\")].response.iloc[0]"
   ]
  },
  {
   "cell_type": "code",
   "execution_count": 15,
   "id": "7c874f53",
   "metadata": {},
   "outputs": [
    {
     "data": {
      "text/plain": [
       "(6914, 8)"
      ]
     },
     "execution_count": 15,
     "metadata": {},
     "output_type": "execute_result"
    }
   ],
   "source": [
    "df.shape"
   ]
  },
  {
   "cell_type": "code",
   "execution_count": 16,
   "id": "48d7f281",
   "metadata": {},
   "outputs": [],
   "source": [
    "df = df.dropna(subset=[\"response\"]).reset_index(drop=True)"
   ]
  },
  {
   "cell_type": "code",
   "execution_count": 17,
   "id": "b027d2c1",
   "metadata": {},
   "outputs": [
    {
     "data": {
      "text/html": [
       "<div>\n",
       "<style scoped>\n",
       "    .dataframe tbody tr th:only-of-type {\n",
       "        vertical-align: middle;\n",
       "    }\n",
       "\n",
       "    .dataframe tbody tr th {\n",
       "        vertical-align: top;\n",
       "    }\n",
       "\n",
       "    .dataframe thead th {\n",
       "        text-align: right;\n",
       "    }\n",
       "</style>\n",
       "<table border=\"1\" class=\"dataframe\">\n",
       "  <thead>\n",
       "    <tr style=\"text-align: right;\">\n",
       "      <th></th>\n",
       "      <th>system_prompt</th>\n",
       "      <th>question</th>\n",
       "      <th>answer</th>\n",
       "      <th>short_answer</th>\n",
       "      <th>generation</th>\n",
       "      <th>messages</th>\n",
       "      <th>response</th>\n",
       "      <th>prompt</th>\n",
       "    </tr>\n",
       "  </thead>\n",
       "  <tbody>\n",
       "    <tr>\n",
       "      <th>0</th>\n",
       "      <td>\\nYou are an AI assistant that uses a Chain of...</td>\n",
       "      <td>A craft store makes a third of its sales in th...</td>\n",
       "      <td>Thus, there were 36 - 12 - 9 = &lt;&lt;36-12-9=15&gt;&gt;1...</td>\n",
       "      <td>15</td>\n",
       "      <td>&lt;thinking&gt;\\nTo find the number of sales in the...</td>\n",
       "      <td>[{'content': '\n",
       "You are an AI assistant that us...</td>\n",
       "      <td>To find the number of sales in the stationery ...</td>\n",
       "      <td>A conversation between User and Assistant. The...</td>\n",
       "    </tr>\n",
       "    <tr>\n",
       "      <th>1</th>\n",
       "      <td>\\nYou are an AI assistant that uses a Chain of...</td>\n",
       "      <td>During one day, there are 4 boat trips through...</td>\n",
       "      <td>During two days the boat can transport a total...</td>\n",
       "      <td>96</td>\n",
       "      <td>&lt;thinking&gt;\\nTo find out how many people the bo...</td>\n",
       "      <td>[{'content': '\n",
       "You are an AI assistant that us...</td>\n",
       "      <td>To find out how many people the boat can trans...</td>\n",
       "      <td>A conversation between User and Assistant. The...</td>\n",
       "    </tr>\n",
       "    <tr>\n",
       "      <th>2</th>\n",
       "      <td>\\nYou are an AI assistant that uses a Chain of...</td>\n",
       "      <td>Paddington has 40 more goats than Washington. ...</td>\n",
       "      <td>In total, they have 140+180 = &lt;&lt;140+180=320&gt;&gt;3...</td>\n",
       "      <td>320</td>\n",
       "      <td>&lt;thinking&gt;\\nI need to find the total number of...</td>\n",
       "      <td>[{'content': '\n",
       "You are an AI assistant that us...</td>\n",
       "      <td>I need to find the total number of goats that ...</td>\n",
       "      <td>A conversation between User and Assistant. The...</td>\n",
       "    </tr>\n",
       "    <tr>\n",
       "      <th>3</th>\n",
       "      <td>\\nYou are an AI assistant that uses a Chain of...</td>\n",
       "      <td>John buys 10 packs of magic cards.  Each pack ...</td>\n",
       "      <td>So he got 10*5 = &lt;&lt;10*5=50&gt;&gt;50 uncommons</td>\n",
       "      <td>50</td>\n",
       "      <td>&lt;thinking&gt;\\nTo solve this problem, I need to c...</td>\n",
       "      <td>[{'content': '\n",
       "You are an AI assistant that us...</td>\n",
       "      <td>To solve this problem, I need to calculate the...</td>\n",
       "      <td>A conversation between User and Assistant. The...</td>\n",
       "    </tr>\n",
       "    <tr>\n",
       "      <th>4</th>\n",
       "      <td>\\nYou are an AI assistant that uses a Chain of...</td>\n",
       "      <td>Henry took 9 pills a day for 14 days. Of these...</td>\n",
       "      <td>Henry spent a total of 35+6 = &lt;&lt;35+6=41&gt;&gt;41 do...</td>\n",
       "      <td>41</td>\n",
       "      <td>&lt;thinking&gt;\\nTo solve this problem, I need to f...</td>\n",
       "      <td>[{'content': '\n",
       "You are an AI assistant that us...</td>\n",
       "      <td>To solve this problem, I need to first calcula...</td>\n",
       "      <td>A conversation between User and Assistant. The...</td>\n",
       "    </tr>\n",
       "  </tbody>\n",
       "</table>\n",
       "</div>"
      ],
      "text/plain": [
       "                                       system_prompt  \\\n",
       "0  \\nYou are an AI assistant that uses a Chain of...   \n",
       "1  \\nYou are an AI assistant that uses a Chain of...   \n",
       "2  \\nYou are an AI assistant that uses a Chain of...   \n",
       "3  \\nYou are an AI assistant that uses a Chain of...   \n",
       "4  \\nYou are an AI assistant that uses a Chain of...   \n",
       "\n",
       "                                            question  \\\n",
       "0  A craft store makes a third of its sales in th...   \n",
       "1  During one day, there are 4 boat trips through...   \n",
       "2  Paddington has 40 more goats than Washington. ...   \n",
       "3  John buys 10 packs of magic cards.  Each pack ...   \n",
       "4  Henry took 9 pills a day for 14 days. Of these...   \n",
       "\n",
       "                                              answer short_answer  \\\n",
       "0  Thus, there were 36 - 12 - 9 = <<36-12-9=15>>1...           15   \n",
       "1  During two days the boat can transport a total...           96   \n",
       "2  In total, they have 140+180 = <<140+180=320>>3...          320   \n",
       "3           So he got 10*5 = <<10*5=50>>50 uncommons           50   \n",
       "4  Henry spent a total of 35+6 = <<35+6=41>>41 do...           41   \n",
       "\n",
       "                                          generation  \\\n",
       "0  <thinking>\\nTo find the number of sales in the...   \n",
       "1  <thinking>\\nTo find out how many people the bo...   \n",
       "2  <thinking>\\nI need to find the total number of...   \n",
       "3  <thinking>\\nTo solve this problem, I need to c...   \n",
       "4  <thinking>\\nTo solve this problem, I need to f...   \n",
       "\n",
       "                                            messages  \\\n",
       "0  [{'content': '\n",
       "You are an AI assistant that us...   \n",
       "1  [{'content': '\n",
       "You are an AI assistant that us...   \n",
       "2  [{'content': '\n",
       "You are an AI assistant that us...   \n",
       "3  [{'content': '\n",
       "You are an AI assistant that us...   \n",
       "4  [{'content': '\n",
       "You are an AI assistant that us...   \n",
       "\n",
       "                                            response  \\\n",
       "0  To find the number of sales in the stationery ...   \n",
       "1  To find out how many people the boat can trans...   \n",
       "2  I need to find the total number of goats that ...   \n",
       "3  To solve this problem, I need to calculate the...   \n",
       "4  To solve this problem, I need to first calcula...   \n",
       "\n",
       "                                              prompt  \n",
       "0  A conversation between User and Assistant. The...  \n",
       "1  A conversation between User and Assistant. The...  \n",
       "2  A conversation between User and Assistant. The...  \n",
       "3  A conversation between User and Assistant. The...  \n",
       "4  A conversation between User and Assistant. The...  "
      ]
     },
     "execution_count": 17,
     "metadata": {},
     "output_type": "execute_result"
    }
   ],
   "source": [
    "df.head()"
   ]
  },
  {
   "cell_type": "code",
   "execution_count": 18,
   "id": "27ff338c",
   "metadata": {},
   "outputs": [],
   "source": [
    "# print(df[df[\"response\"].str.contains(\"<thinking>\")][\"generation\"].iloc[0])"
   ]
  },
  {
   "cell_type": "code",
   "execution_count": 19,
   "id": "288b930d",
   "metadata": {},
   "outputs": [],
   "source": [
    "# print(df[~df[\"response\"].str.contains(r\"</think> <answer>.*</answer>\", regex=True)]['generation'].iloc[0])"
   ]
  },
  {
   "cell_type": "code",
   "execution_count": 20,
   "id": "e8bb7348",
   "metadata": {},
   "outputs": [],
   "source": [
    "assert not df[\"response\"].str.contains(\"<thinking>\").any()\n",
    "assert df[\"response\"].str.contains(r\"(?s)</think>\\s*<answer>[\\s\\S]*?</answer>\").all()\n",
    "assert df[\"prompt\"].str.endswith(\"Assistant: <think>\").all()"
   ]
  },
  {
   "cell_type": "code",
   "execution_count": 22,
   "id": "95a0b634",
   "metadata": {},
   "outputs": [],
   "source": [
    "df[[\"prompt\", \"response\"]].to_json(\"../integrl/data/gsm8k/sft.jsonl\", orient=\"records\", lines=True)"
   ]
  },
  {
   "cell_type": "code",
   "execution_count": null,
   "id": "2f08cea1",
   "metadata": {},
   "outputs": [],
   "source": []
  }
 ],
 "metadata": {
  "kernelspec": {
   "display_name": ".venv",
   "language": "python",
   "name": "python3"
  },
  "language_info": {
   "codemirror_mode": {
    "name": "ipython",
    "version": 3
   },
   "file_extension": ".py",
   "mimetype": "text/x-python",
   "name": "python",
   "nbconvert_exporter": "python",
   "pygments_lexer": "ipython3",
   "version": "3.11.11"
  }
 },
 "nbformat": 4,
 "nbformat_minor": 5
}
