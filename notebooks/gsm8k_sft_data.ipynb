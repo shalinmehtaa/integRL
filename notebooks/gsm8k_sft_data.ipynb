{
 "cells": [
  {
   "cell_type": "code",
   "execution_count": 1,
   "id": "2e40dfa1",
   "metadata": {},
   "outputs": [],
   "source": [
    "from datasets import load_dataset"
   ]
  },
  {
   "cell_type": "code",
   "execution_count": 2,
   "metadata": {},
   "outputs": [],
   "source": [
    "data = load_dataset(\"thesven/gsm8k-reasoning\")"
   ]
  },
  {
   "cell_type": "code",
   "execution_count": 3,
   "id": "ac518016",
   "metadata": {},
   "outputs": [],
   "source": [
    "df = data['train'].to_pandas()"
   ]
  },
  {
   "cell_type": "code",
   "execution_count": 4,
   "id": "489d0ac2",
   "metadata": {},
   "outputs": [
    {
     "data": {
      "text/html": [
       "<div>\n",
       "<style scoped>\n",
       "    .dataframe tbody tr th:only-of-type {\n",
       "        vertical-align: middle;\n",
       "    }\n",
       "\n",
       "    .dataframe tbody tr th {\n",
       "        vertical-align: top;\n",
       "    }\n",
       "\n",
       "    .dataframe thead th {\n",
       "        text-align: right;\n",
       "    }\n",
       "</style>\n",
       "<table border=\"1\" class=\"dataframe\">\n",
       "  <thead>\n",
       "    <tr style=\"text-align: right;\">\n",
       "      <th></th>\n",
       "      <th>system_prompt</th>\n",
       "      <th>question</th>\n",
       "      <th>answer</th>\n",
       "      <th>short_answer</th>\n",
       "      <th>generation</th>\n",
       "      <th>messages</th>\n",
       "    </tr>\n",
       "  </thead>\n",
       "  <tbody>\n",
       "    <tr>\n",
       "      <th>0</th>\n",
       "      <td>\\nYou are an AI assistant that uses a Chain of...</td>\n",
       "      <td>A craft store makes a third of its sales in th...</td>\n",
       "      <td>Thus, there were 36 - 12 - 9 = &lt;&lt;36-12-9=15&gt;&gt;1...</td>\n",
       "      <td>15</td>\n",
       "      <td>&lt;thinking&gt;\\nTo find the number of sales in the...</td>\n",
       "      <td>[{'content': '\n",
       "You are an AI assistant that us...</td>\n",
       "    </tr>\n",
       "    <tr>\n",
       "      <th>1</th>\n",
       "      <td>\\nYou are an AI assistant that uses a Chain of...</td>\n",
       "      <td>Marcy is a makeup artist and has agreed to do ...</td>\n",
       "      <td>So she must be applying makeup to 12 tubes of ...</td>\n",
       "      <td>36</td>\n",
       "      <td>‹thinking›\\n\\nTo solve this problem, we need t...</td>\n",
       "      <td>[{'content': '\n",
       "You are an AI assistant that us...</td>\n",
       "    </tr>\n",
       "    <tr>\n",
       "      <th>2</th>\n",
       "      <td>\\nYou are an AI assistant that uses a Chain of...</td>\n",
       "      <td>Ellie has found an old bicycle in a field and ...</td>\n",
       "      <td>To fix the rest of the bike as well, she needs...</td>\n",
       "      <td>25</td>\n",
       "      <td>&lt;thinking&gt;\\nTo solve this problem, I need to c...</td>\n",
       "      <td>[{'content': '\n",
       "You are an AI assistant that us...</td>\n",
       "    </tr>\n",
       "    <tr>\n",
       "      <th>3</th>\n",
       "      <td>\\nYou are an AI assistant that uses a Chain of...</td>\n",
       "      <td>Janice can type 6 sentences per minute. Today ...</td>\n",
       "      <td>Thus, she had X = 536 - 278 = &lt;&lt;536-278=258&gt;&gt;2...</td>\n",
       "      <td>258</td>\n",
       "      <td>&lt;thinking&gt;\\nTo find out how many sentences Jan...</td>\n",
       "      <td>[{'content': '\n",
       "You are an AI assistant that us...</td>\n",
       "    </tr>\n",
       "    <tr>\n",
       "      <th>4</th>\n",
       "      <td>\\nYou are an AI assistant that uses a Chain of...</td>\n",
       "      <td>During one day, there are 4 boat trips through...</td>\n",
       "      <td>During two days the boat can transport a total...</td>\n",
       "      <td>96</td>\n",
       "      <td>&lt;thinking&gt;\\nTo find out how many people the bo...</td>\n",
       "      <td>[{'content': '\n",
       "You are an AI assistant that us...</td>\n",
       "    </tr>\n",
       "  </tbody>\n",
       "</table>\n",
       "</div>"
      ],
      "text/plain": [
       "                                       system_prompt  \\\n",
       "0  \\nYou are an AI assistant that uses a Chain of...   \n",
       "1  \\nYou are an AI assistant that uses a Chain of...   \n",
       "2  \\nYou are an AI assistant that uses a Chain of...   \n",
       "3  \\nYou are an AI assistant that uses a Chain of...   \n",
       "4  \\nYou are an AI assistant that uses a Chain of...   \n",
       "\n",
       "                                            question  \\\n",
       "0  A craft store makes a third of its sales in th...   \n",
       "1  Marcy is a makeup artist and has agreed to do ...   \n",
       "2  Ellie has found an old bicycle in a field and ...   \n",
       "3  Janice can type 6 sentences per minute. Today ...   \n",
       "4  During one day, there are 4 boat trips through...   \n",
       "\n",
       "                                              answer short_answer  \\\n",
       "0  Thus, there were 36 - 12 - 9 = <<36-12-9=15>>1...           15   \n",
       "1  So she must be applying makeup to 12 tubes of ...           36   \n",
       "2  To fix the rest of the bike as well, she needs...           25   \n",
       "3  Thus, she had X = 536 - 278 = <<536-278=258>>2...          258   \n",
       "4  During two days the boat can transport a total...           96   \n",
       "\n",
       "                                          generation  \\\n",
       "0  <thinking>\\nTo find the number of sales in the...   \n",
       "1  ‹thinking›\\n\\nTo solve this problem, we need t...   \n",
       "2  <thinking>\\nTo solve this problem, I need to c...   \n",
       "3  <thinking>\\nTo find out how many sentences Jan...   \n",
       "4  <thinking>\\nTo find out how many people the bo...   \n",
       "\n",
       "                                            messages  \n",
       "0  [{'content': '\n",
       "You are an AI assistant that us...  \n",
       "1  [{'content': '\n",
       "You are an AI assistant that us...  \n",
       "2  [{'content': '\n",
       "You are an AI assistant that us...  \n",
       "3  [{'content': '\n",
       "You are an AI assistant that us...  \n",
       "4  [{'content': '\n",
       "You are an AI assistant that us...  "
      ]
     },
     "execution_count": 4,
     "metadata": {},
     "output_type": "execute_result"
    }
   ],
   "source": [
    "df.head()"
   ]
  },
  {
   "cell_type": "code",
   "execution_count": 5,
   "id": "813ab0e6",
   "metadata": {},
   "outputs": [
    {
     "name": "stdout",
     "output_type": "stream",
     "text": [
      "Ellie has found an old bicycle in a field and thinks it just needs some oil to work well again.  She needs 10ml of oil to fix each wheel and will need another 5ml of oil to fix the rest of the bike. How much oil does she need in total to fix the bike?\n"
     ]
    }
   ],
   "source": [
    "print(df[\"question\"][2])"
   ]
  },
  {
   "cell_type": "code",
   "execution_count": 6,
   "id": "1cc84264",
   "metadata": {},
   "outputs": [
    {
     "name": "stdout",
     "output_type": "stream",
     "text": [
      "To fix the rest of the bike as well, she needs 20 + 5 = <<20+5=25>>25ml of oil.\n"
     ]
    }
   ],
   "source": [
    "print(df[\"answer\"][2])"
   ]
  },
  {
   "cell_type": "code",
   "execution_count": 7,
   "id": "00d64d21",
   "metadata": {},
   "outputs": [
    {
     "name": "stdout",
     "output_type": "stream",
     "text": [
      "<thinking>\n",
      "To solve this problem, I need to calculate the total amount of oil Ellie needs to fix the bike. I'll start by calculating the amount of oil needed for the wheels. She needs 10ml of oil to fix each wheel, and there are 2 wheels on a bike. So, the total amount of oil needed for the wheels is 10ml * 2 = 20ml. Additionally, she needs 5ml of oil to fix the rest of the bike. I can add the amount of oil needed for the wheels and the rest of the bike to get the total amount of oil needed.\n",
      "\n",
      "</thinking>\n",
      "\n",
      "<reasoning>\n",
      "1. Calculate the total amount of oil needed for the wheels: 10ml * 2 = 20ml.\n",
      "2. Add the amount of oil needed for the rest of the bike: 20ml + 5ml = 25ml.\n",
      "3. The total amount of oil needed is the sum of the oil needed for the wheels and the rest of the bike.\n",
      "\n",
      "</reasoning>\n",
      "\n",
      "‹reflection>\n",
      "My reasoning seems sound, but I should double-check my math to ensure I didn't make any calculation errors. Upon reviewing my steps, I'm confident that my calculations are correct.\n",
      "\n",
      "</reflection>\n",
      "\n",
      "<adjustment>\n",
      "No adjustments needed.\n",
      "\n",
      "</adjustment>\n",
      "\n",
      "<output>\n",
      "25\n"
     ]
    }
   ],
   "source": [
    "print(df[\"generation\"][2])"
   ]
  },
  {
   "cell_type": "code",
   "execution_count": 8,
   "id": "c085dbff",
   "metadata": {},
   "outputs": [
    {
     "name": "stdout",
     "output_type": "stream",
     "text": [
      "[{'content': '\\nYou are an AI assistant that uses a Chain of Thought (CoT) approach with reflection to answer queries.\\n\\nFollow these steps:\\n- Think through the problem step by step within the ‹thinking> tags.\\n- Reflect on your thinking\\n\\nto check for any errors or improvements within the ‹reflection› tags.\\n- Make any necessary adjustments based on your reflection.\\n- Provide your final, concise answer within the ‹output> tags.\\n\\nImportant: The <thinking> and ‹reflection› sections are for your internal reasoning process only.\\nDo not include any part of the final answer in these sections.\\nThe actual response to the query must be entirely contained within the ‹output› tags.\\n\\nUse the following format for your response:\\n<thinking>\\n[Your initial thought process goes here]\\n</thinking›\\n\\n<reasoning>\\n[Your step-by-step reasoning goes here. This is your internal thought process, not the final answer. You can create as many reasoning steps as necessary in your process.]\\n</reasoning>\\n\\n‹reflection>\\n[Your reflection on your reasoning, checking for errors or improvements. You can create as many reflection steps as necessary in your process.]\\n</ reflection>\\n\\n<adjustment>\\n[Any adjustments to your thinking based on your reflection]\\n</adjustment>\\n\\n<output>\\n[Your final, concise answer to the query. This is the only part that will be shown to the user.]\\n</output>\\n', 'role': 'system'}\n",
      " {'content': 'Ellie has found an old bicycle in a field and thinks it just needs some oil to work well again.  She needs 10ml of oil to fix each wheel and will need another 5ml of oil to fix the rest of the bike. How much oil does she need in total to fix the bike?', 'role': 'user'}\n",
      " {'content': \"<thinking>\\nTo solve this problem, I need to calculate the total amount of oil Ellie needs to fix the bike. I'll start by calculating the amount of oil needed for the wheels. She needs 10ml of oil to fix each wheel, and there are 2 wheels on a bike. So, the total amount of oil needed for the wheels is 10ml * 2 = 20ml. Additionally, she needs 5ml of oil to fix the rest of the bike. I can add the amount of oil needed for the wheels and the rest of the bike to get the total amount of oil needed.\\n\\n</thinking>\\n\\n<reasoning>\\n1. Calculate the total amount of oil needed for the wheels: 10ml * 2 = 20ml.\\n2. Add the amount of oil needed for the rest of the bike: 20ml + 5ml = 25ml.\\n3. The total amount of oil needed is the sum of the oil needed for the wheels and the rest of the bike.\\n\\n</reasoning>\\n\\n‹reflection>\\nMy reasoning seems sound, but I should double-check my math to ensure I didn't make any calculation errors. Upon reviewing my steps, I'm confident that my calculations are correct.\\n\\n</reflection>\\n\\n<adjustment>\\nNo adjustments needed.\\n\\n</adjustment>\\n\\n<output>\\n25\", 'role': 'assistant'}]\n"
     ]
    }
   ],
   "source": [
    "print(df[\"messages\"][2])"
   ]
  },
  {
   "cell_type": "code",
   "execution_count": 9,
   "id": "6d629dbd",
   "metadata": {},
   "outputs": [],
   "source": [
    "import re\n",
    "\n",
    "def process_to_match_r1(generation: str| None):\n",
    "    if generation is None:\n",
    "        return None\n",
    "    \n",
    "    remove_pattern_start = r\"\\n<reasoning>\"\n",
    "    remove_pattern_end   = r\"</adjustment>\\n\"\n",
    "    remove_pattern = remove_pattern_start + r\".*?\" + remove_pattern_end\n",
    "    answer_pattern_start = r\"<output>\"\n",
    "    answer_pattern_end = r\"</output>\"\n",
    "\n",
    "    cleaned = re.sub(remove_pattern, \"\", generation, flags=re.DOTALL)\n",
    "    cleaned = re.sub(answer_pattern_start, \"<answer>\", cleaned, flags=re.DOTALL)\n",
    "    cleaned = re.sub(answer_pattern_end, \"</answer>\", cleaned, flags=re.DOTALL)\n",
    "\n",
    "    return cleaned"
   ]
  },
  {
   "cell_type": "code",
   "execution_count": 10,
   "id": "1590065c",
   "metadata": {},
   "outputs": [],
   "source": [
    "df[\"response\"] = df[\"generation\"].apply(process_to_match_r1)"
   ]
  },
  {
   "cell_type": "code",
   "execution_count": 11,
   "id": "0fb06416",
   "metadata": {},
   "outputs": [],
   "source": [
    "with open(\"../integrl/prompts/r1_zero.prompt\") as f:\n",
    "    prompt_template = f.read()"
   ]
  },
  {
   "cell_type": "code",
   "execution_count": 12,
   "id": "b92e9cca",
   "metadata": {},
   "outputs": [],
   "source": [
    "df[\"prompt\"] = df[\"question\"].apply(lambda q: prompt_template.format(question=q))"
   ]
  },
  {
   "cell_type": "code",
   "execution_count": 13,
   "id": "822e77fb",
   "metadata": {},
   "outputs": [
    {
     "data": {
      "text/plain": [
       "\"I can help you with the problem, but I'll make sure to follow the specified format.\\n\\n<thinking>\\nTo find the number of dogs Heloise has after giving 10 dogs to Janet, we need to first calculate the total number of dogs she has initially. Let's denote the number of dogs as D and the number of cats as C. The ratio of dogs to cats is 10:17, and the total number of pets is 189. We can set up the equation: \\n\\n10x + 17x = 189, where x is a constant multiplier for the ratio. Solving for x gives us x = 9. So, the initial number of dogs is 10x = 10 ×9= 90. If Heloise gives Janet 10 dogs, she will be left with 90 - 10 = 80 dogs. However, this is not an option for the final answer, but we can re-read the prompt and see that the total number of pets is 189 and the ratio of dogs to cats is 10:17, implying that the total number of parts in the ratio is 10+17=27 parts, and we can calculate the value of one part, which is 189/27=7, so the initial number of dogs is 10 ×7 = 70, hence after giving 10 dogs to Janet, Heloise has 70 - 10 = 60 dogs. \\n\\n</thinking>\\n\\n</reflection> I noticed that my initial assumption was incorrect, and I needed to recalculate the initial number of dogs and pets to provide the accurate answer. I also needed to re-read the prompt to get the total number of pets and the ratio provided to calculate the correct answer </reflection>\""
      ]
     },
     "execution_count": 13,
     "metadata": {},
     "output_type": "execute_result"
    }
   ],
   "source": [
    "df[df.question.str.contains(\"Janet\")].response.iloc[0]"
   ]
  },
  {
   "cell_type": "code",
   "execution_count": 14,
   "id": "7c874f53",
   "metadata": {},
   "outputs": [
    {
     "data": {
      "text/plain": [
       "(6914, 8)"
      ]
     },
     "execution_count": 14,
     "metadata": {},
     "output_type": "execute_result"
    }
   ],
   "source": [
    "df.shape"
   ]
  },
  {
   "cell_type": "code",
   "execution_count": 15,
   "id": "48d7f281",
   "metadata": {},
   "outputs": [],
   "source": [
    "df = df.dropna(subset=[\"response\"]).reset_index(drop=True)"
   ]
  },
  {
   "cell_type": "code",
   "execution_count": 16,
   "id": "b027d2c1",
   "metadata": {},
   "outputs": [
    {
     "data": {
      "text/html": [
       "<div>\n",
       "<style scoped>\n",
       "    .dataframe tbody tr th:only-of-type {\n",
       "        vertical-align: middle;\n",
       "    }\n",
       "\n",
       "    .dataframe tbody tr th {\n",
       "        vertical-align: top;\n",
       "    }\n",
       "\n",
       "    .dataframe thead th {\n",
       "        text-align: right;\n",
       "    }\n",
       "</style>\n",
       "<table border=\"1\" class=\"dataframe\">\n",
       "  <thead>\n",
       "    <tr style=\"text-align: right;\">\n",
       "      <th></th>\n",
       "      <th>system_prompt</th>\n",
       "      <th>question</th>\n",
       "      <th>answer</th>\n",
       "      <th>short_answer</th>\n",
       "      <th>generation</th>\n",
       "      <th>messages</th>\n",
       "      <th>response</th>\n",
       "      <th>prompt</th>\n",
       "    </tr>\n",
       "  </thead>\n",
       "  <tbody>\n",
       "    <tr>\n",
       "      <th>0</th>\n",
       "      <td>\\nYou are an AI assistant that uses a Chain of...</td>\n",
       "      <td>A craft store makes a third of its sales in th...</td>\n",
       "      <td>Thus, there were 36 - 12 - 9 = &lt;&lt;36-12-9=15&gt;&gt;1...</td>\n",
       "      <td>15</td>\n",
       "      <td>&lt;thinking&gt;\\nTo find the number of sales in the...</td>\n",
       "      <td>[{'content': '\n",
       "You are an AI assistant that us...</td>\n",
       "      <td>&lt;thinking&gt;\\nTo find the number of sales in the...</td>\n",
       "      <td>A conversation between User and Assistant. The...</td>\n",
       "    </tr>\n",
       "    <tr>\n",
       "      <th>1</th>\n",
       "      <td>\\nYou are an AI assistant that uses a Chain of...</td>\n",
       "      <td>Marcy is a makeup artist and has agreed to do ...</td>\n",
       "      <td>So she must be applying makeup to 12 tubes of ...</td>\n",
       "      <td>36</td>\n",
       "      <td>‹thinking›\\n\\nTo solve this problem, we need t...</td>\n",
       "      <td>[{'content': '\n",
       "You are an AI assistant that us...</td>\n",
       "      <td>‹thinking›\\n\\nTo solve this problem, we need t...</td>\n",
       "      <td>A conversation between User and Assistant. The...</td>\n",
       "    </tr>\n",
       "    <tr>\n",
       "      <th>2</th>\n",
       "      <td>\\nYou are an AI assistant that uses a Chain of...</td>\n",
       "      <td>Ellie has found an old bicycle in a field and ...</td>\n",
       "      <td>To fix the rest of the bike as well, she needs...</td>\n",
       "      <td>25</td>\n",
       "      <td>&lt;thinking&gt;\\nTo solve this problem, I need to c...</td>\n",
       "      <td>[{'content': '\n",
       "You are an AI assistant that us...</td>\n",
       "      <td>&lt;thinking&gt;\\nTo solve this problem, I need to c...</td>\n",
       "      <td>A conversation between User and Assistant. The...</td>\n",
       "    </tr>\n",
       "    <tr>\n",
       "      <th>3</th>\n",
       "      <td>\\nYou are an AI assistant that uses a Chain of...</td>\n",
       "      <td>Janice can type 6 sentences per minute. Today ...</td>\n",
       "      <td>Thus, she had X = 536 - 278 = &lt;&lt;536-278=258&gt;&gt;2...</td>\n",
       "      <td>258</td>\n",
       "      <td>&lt;thinking&gt;\\nTo find out how many sentences Jan...</td>\n",
       "      <td>[{'content': '\n",
       "You are an AI assistant that us...</td>\n",
       "      <td>&lt;thinking&gt;\\nTo find out how many sentences Jan...</td>\n",
       "      <td>A conversation between User and Assistant. The...</td>\n",
       "    </tr>\n",
       "    <tr>\n",
       "      <th>4</th>\n",
       "      <td>\\nYou are an AI assistant that uses a Chain of...</td>\n",
       "      <td>During one day, there are 4 boat trips through...</td>\n",
       "      <td>During two days the boat can transport a total...</td>\n",
       "      <td>96</td>\n",
       "      <td>&lt;thinking&gt;\\nTo find out how many people the bo...</td>\n",
       "      <td>[{'content': '\n",
       "You are an AI assistant that us...</td>\n",
       "      <td>&lt;thinking&gt;\\nTo find out how many people the bo...</td>\n",
       "      <td>A conversation between User and Assistant. The...</td>\n",
       "    </tr>\n",
       "  </tbody>\n",
       "</table>\n",
       "</div>"
      ],
      "text/plain": [
       "                                       system_prompt  \\\n",
       "0  \\nYou are an AI assistant that uses a Chain of...   \n",
       "1  \\nYou are an AI assistant that uses a Chain of...   \n",
       "2  \\nYou are an AI assistant that uses a Chain of...   \n",
       "3  \\nYou are an AI assistant that uses a Chain of...   \n",
       "4  \\nYou are an AI assistant that uses a Chain of...   \n",
       "\n",
       "                                            question  \\\n",
       "0  A craft store makes a third of its sales in th...   \n",
       "1  Marcy is a makeup artist and has agreed to do ...   \n",
       "2  Ellie has found an old bicycle in a field and ...   \n",
       "3  Janice can type 6 sentences per minute. Today ...   \n",
       "4  During one day, there are 4 boat trips through...   \n",
       "\n",
       "                                              answer short_answer  \\\n",
       "0  Thus, there were 36 - 12 - 9 = <<36-12-9=15>>1...           15   \n",
       "1  So she must be applying makeup to 12 tubes of ...           36   \n",
       "2  To fix the rest of the bike as well, she needs...           25   \n",
       "3  Thus, she had X = 536 - 278 = <<536-278=258>>2...          258   \n",
       "4  During two days the boat can transport a total...           96   \n",
       "\n",
       "                                          generation  \\\n",
       "0  <thinking>\\nTo find the number of sales in the...   \n",
       "1  ‹thinking›\\n\\nTo solve this problem, we need t...   \n",
       "2  <thinking>\\nTo solve this problem, I need to c...   \n",
       "3  <thinking>\\nTo find out how many sentences Jan...   \n",
       "4  <thinking>\\nTo find out how many people the bo...   \n",
       "\n",
       "                                            messages  \\\n",
       "0  [{'content': '\n",
       "You are an AI assistant that us...   \n",
       "1  [{'content': '\n",
       "You are an AI assistant that us...   \n",
       "2  [{'content': '\n",
       "You are an AI assistant that us...   \n",
       "3  [{'content': '\n",
       "You are an AI assistant that us...   \n",
       "4  [{'content': '\n",
       "You are an AI assistant that us...   \n",
       "\n",
       "                                            response  \\\n",
       "0  <thinking>\\nTo find the number of sales in the...   \n",
       "1  ‹thinking›\\n\\nTo solve this problem, we need t...   \n",
       "2  <thinking>\\nTo solve this problem, I need to c...   \n",
       "3  <thinking>\\nTo find out how many sentences Jan...   \n",
       "4  <thinking>\\nTo find out how many people the bo...   \n",
       "\n",
       "                                              prompt  \n",
       "0  A conversation between User and Assistant. The...  \n",
       "1  A conversation between User and Assistant. The...  \n",
       "2  A conversation between User and Assistant. The...  \n",
       "3  A conversation between User and Assistant. The...  \n",
       "4  A conversation between User and Assistant. The...  "
      ]
     },
     "execution_count": 16,
     "metadata": {},
     "output_type": "execute_result"
    }
   ],
   "source": [
    "df.head()"
   ]
  },
  {
   "cell_type": "code",
   "execution_count": 19,
   "id": "95a0b634",
   "metadata": {},
   "outputs": [],
   "source": [
    "df.to_json(\"../integrl/data/gsm8k/sft.jsonl\", orient=\"records\", lines=True)"
   ]
  },
  {
   "cell_type": "code",
   "execution_count": null,
   "id": "2f08cea1",
   "metadata": {},
   "outputs": [],
   "source": []
  }
 ],
 "metadata": {
  "kernelspec": {
   "display_name": ".venv",
   "language": "python",
   "name": "python3"
  },
  "language_info": {
   "codemirror_mode": {
    "name": "ipython",
    "version": 3
   },
   "file_extension": ".py",
   "mimetype": "text/x-python",
   "name": "python",
   "nbconvert_exporter": "python",
   "pygments_lexer": "ipython3",
   "version": "3.11.11"
  }
 },
 "nbformat": 4,
 "nbformat_minor": 5
}
